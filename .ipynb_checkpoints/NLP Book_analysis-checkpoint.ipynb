{
 "cells": [
  {
   "cell_type": "markdown",
   "id": "6b760c01-815d-4d5b-99d5-88580eb84a97",
   "metadata": {},
   "source": [
    "## Load the book"
   ]
  },
  {
   "cell_type": "code",
   "execution_count": 1,
   "id": "e8b384ae-2fc2-44d1-9c51-8214ed30c37e",
   "metadata": {},
   "outputs": [],
   "source": [
    "with open(\"miracle_in_the_andes.txt\",\"r\") as file:\n",
    "    book = file.read()"
   ]
  },
  {
   "cell_type": "markdown",
   "id": "b4816446-e697-4264-8015-8474d6d829c8",
   "metadata": {},
   "source": [
    "## The most used words (non-articles)"
   ]
  },
  {
   "cell_type": "code",
   "execution_count": 2,
   "id": "49eebb50-50b0-4db1-abd1-a706a4b3152e",
   "metadata": {},
   "outputs": [
    {
     "data": {
      "text/plain": [
       "['chapter', 'before', 'it', 'was', 'friday']"
      ]
     },
     "execution_count": 2,
     "metadata": {},
     "output_type": "execute_result"
    }
   ],
   "source": [
    "import re\n",
    "pattern = re.compile(\"[a-zA-Z]+\")\n",
    "findings = re.findall(pattern, book.lower())\n",
    "findings[:5]"
   ]
  },
  {
   "cell_type": "code",
   "execution_count": 3,
   "id": "7d4a9dd1-46fd-403e-975a-c5ad9f6d5bf4",
   "metadata": {},
   "outputs": [],
   "source": [
    "d = {}\n",
    "for word in findings:\n",
    "    if word in d.keys():\n",
    "        d[word]+=1\n",
    "    else:\n",
    "        d[word] = 1"
   ]
  },
  {
   "cell_type": "code",
   "execution_count": 4,
   "id": "e6e84a1c-c4d1-4bc1-9453-0e58414e6155",
   "metadata": {},
   "outputs": [
    {
     "data": {
      "text/plain": [
       "[(5346, 'the'), (2795, 'and'), (2729, 'i'), (2400, 'to'), (2060, 'of')]"
      ]
     },
     "execution_count": 4,
     "metadata": {},
     "output_type": "execute_result"
    }
   ],
   "source": [
    "d_list = [(value, key) for (key, value) in d.items()]\n",
    "d_list = sorted(d_list, reverse = True)\n",
    "d_list[:5]"
   ]
  },
  {
   "cell_type": "code",
   "execution_count": 7,
   "id": "bfb4c4b1-ae35-4c4c-a97b-3c74188025de",
   "metadata": {},
   "outputs": [],
   "source": [
    "import nltk\n",
    "\n",
    "from nltk.corpus import stopwords\n",
    "english_stopwords = stopwords.words(\"english\")"
   ]
  },
  {
   "cell_type": "code",
   "execution_count": 8,
   "id": "bb3117a8-a95a-4dd6-8ef4-71f6b346371c",
   "metadata": {},
   "outputs": [],
   "source": [
    "filtered_words = []\n",
    "for count, word in d_list:\n",
    "    if word not in english_stopwords:\n",
    "        filtered_words.append((word, count))"
   ]
  },
  {
   "cell_type": "code",
   "execution_count": 9,
   "id": "719d77fa-29a9-42f7-b583-6cce2c2f8439",
   "metadata": {},
   "outputs": [
    {
     "data": {
      "text/plain": [
       "[('would', 575),\n",
       " ('us', 519),\n",
       " ('said', 292),\n",
       " ('roberto', 284),\n",
       " ('could', 252),\n",
       " ('one', 249),\n",
       " ('snow', 227),\n",
       " ('mountain', 183),\n",
       " ('time', 182),\n",
       " ('like', 165)]"
      ]
     },
     "execution_count": 9,
     "metadata": {},
     "output_type": "execute_result"
    }
   ],
   "source": [
    "filtered_words[:10]"
   ]
  },
  {
   "cell_type": "markdown",
   "id": "f84a4135-68e4-4645-a852-bb2ecf8b0b49",
   "metadata": {},
   "source": [
    "## Sentiment Analysis: What is the most positive and the most negative chapter"
   ]
  },
  {
   "cell_type": "code",
   "execution_count": 10,
   "id": "ca7fab8e-8c5a-4723-9c83-133c9a576ea5",
   "metadata": {},
   "outputs": [],
   "source": [
    "from nltk.sentiment import SentimentIntensityAnalyzer"
   ]
  },
  {
   "cell_type": "code",
   "execution_count": null,
   "id": "452c4738-01f9-4818-941f-70af6c18abe4",
   "metadata": {},
   "outputs": [],
   "source": [
    "dir(analyzer)"
   ]
  },
  {
   "cell_type": "code",
   "execution_count": null,
   "id": "0c35ef85-0faf-4de3-9460-42b274c3d379",
   "metadata": {},
   "outputs": [],
   "source": []
  }
 ],
 "metadata": {
  "kernelspec": {
   "display_name": "Python 3 (ipykernel)",
   "language": "python",
   "name": "python3"
  },
  "language_info": {
   "codemirror_mode": {
    "name": "ipython",
    "version": 3
   },
   "file_extension": ".py",
   "mimetype": "text/x-python",
   "name": "python",
   "nbconvert_exporter": "python",
   "pygments_lexer": "ipython3",
   "version": "3.10.12"
  }
 },
 "nbformat": 4,
 "nbformat_minor": 5
}
