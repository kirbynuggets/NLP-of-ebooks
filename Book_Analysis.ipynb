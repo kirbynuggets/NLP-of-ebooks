{
 "cells": [
  {
   "cell_type": "markdown",
   "id": "5a8d2823-9c31-4529-8190-4ae9ab4800ea",
   "metadata": {
    "jp-MarkdownHeadingCollapsed": true
   },
   "source": [
    "## Load the book"
   ]
  },
  {
   "cell_type": "code",
   "execution_count": 16,
   "id": "7452d079-3e81-4017-afef-6d93e4cde5cc",
   "metadata": {},
   "outputs": [],
   "source": [
    "with open(\"miracle_in_the_andes.txt\", \"r\") as file:\n",
    "    book = file.read()"
   ]
  },
  {
   "cell_type": "markdown",
   "id": "3f8db470-47cb-478f-ac97-80d48d9417ff",
   "metadata": {
    "jp-MarkdownHeadingCollapsed": true
   },
   "source": [
    "## [I] How many chapters?"
   ]
  },
  {
   "cell_type": "markdown",
   "id": "a16e6df1-2be0-443f-87be-997272f47912",
   "metadata": {
    "jp-MarkdownHeadingCollapsed": true
   },
   "source": [
    "### with string methods"
   ]
  },
  {
   "cell_type": "code",
   "execution_count": null,
   "id": "3622eaa7-2f29-4c05-adb5-a48ed070bff3",
   "metadata": {},
   "outputs": [],
   "source": [
    "book.count(\"Chapter\")"
   ]
  },
  {
   "cell_type": "markdown",
   "id": "94c577c0-c437-4224-8741-559079c9224c",
   "metadata": {
    "jp-MarkdownHeadingCollapsed": true
   },
   "source": [
    "### with regex"
   ]
  },
  {
   "cell_type": "code",
   "execution_count": null,
   "id": "43901adf-53c9-4ff2-bc15-a0f2b02cabe5",
   "metadata": {},
   "outputs": [],
   "source": [
    "import re"
   ]
  },
  {
   "cell_type": "code",
   "execution_count": null,
   "id": "934b2e0d-1a70-4a1c-9711-15e9c8864b18",
   "metadata": {},
   "outputs": [],
   "source": [
    "pattern = re.compile(\"Chapter [0-9]+\")\n",
    "findings = re.findall(pattern, book)\n",
    "len(findings)"
   ]
  },
  {
   "cell_type": "markdown",
   "id": "e19fd3f6-d1c9-49e6-83bd-d2736b86f488",
   "metadata": {
    "jp-MarkdownHeadingCollapsed": true
   },
   "source": [
    "## [II] Chapters found"
   ]
  },
  {
   "cell_type": "code",
   "execution_count": null,
   "id": "9fbb496d-12a5-4449-8da9-7cc6d1eea528",
   "metadata": {},
   "outputs": [],
   "source": [
    "findings"
   ]
  },
  {
   "cell_type": "markdown",
   "id": "48f69aab-10c5-4a92-9b4f-fae3d295b8c3",
   "metadata": {
    "jp-MarkdownHeadingCollapsed": true
   },
   "source": [
    "### Extract the chapter titles"
   ]
  },
  {
   "cell_type": "markdown",
   "id": "9822f019-f97e-451d-a63d-a5ae24d33055",
   "metadata": {
    "jp-MarkdownHeadingCollapsed": true
   },
   "source": [
    "#### Method 1"
   ]
  },
  {
   "cell_type": "code",
   "execution_count": 5,
   "id": "dce9b0ff-e652-4a2f-9393-d06855d2f208",
   "metadata": {},
   "outputs": [
    {
     "data": {
      "text/plain": [
       "['Before',\n",
       " 'Everything Precious',\n",
       " 'A Promise',\n",
       " 'Breathe Once More',\n",
       " 'Abandoned',\n",
       " 'Tomb',\n",
       " 'East',\n",
       " 'The Opposite of Death',\n",
       " 'I See a Man',\n",
       " 'After']"
      ]
     },
     "execution_count": 5,
     "metadata": {},
     "output_type": "execute_result"
    }
   ],
   "source": [
    "import re\n",
    "pattern = re.compile(\"[a-zA-Z ,]+\\n\\n\")\n",
    "findings = re.findall(pattern, book)\n",
    "findings = [item.strip(\"\\n\\n\") for item in findings]\n",
    "findings"
   ]
  },
  {
   "cell_type": "markdown",
   "id": "b541c386-e633-49fa-a498-24d304c288c6",
   "metadata": {
    "jp-MarkdownHeadingCollapsed": true
   },
   "source": [
    "#### Method 2"
   ]
  },
  {
   "cell_type": "code",
   "execution_count": 11,
   "id": "e4d88abf-7303-4236-bd65-267e44a94f21",
   "metadata": {},
   "outputs": [
    {
     "data": {
      "text/plain": [
       "[]"
      ]
     },
     "execution_count": 11,
     "metadata": {},
     "output_type": "execute_result"
    }
   ],
   "source": [
    "import re\n",
    "pattern = re.compile(\"a-zA-Z ]+\\n\\n\")\n",
    "findings = re.findall(pattern, book)\n",
    "findings"
   ]
  },
  {
   "cell_type": "markdown",
   "id": "d47f2a46-07ac-4d45-9e3a-60d272afaee6",
   "metadata": {
    "jp-MarkdownHeadingCollapsed": true
   },
   "source": [
    "## [III] Which are the sentences where \"owe\" was used?"
   ]
  },
  {
   "cell_type": "code",
   "execution_count": 12,
   "id": "ce03fad5-c1e2-4dcf-959b-ae9147ae54e3",
   "metadata": {},
   "outputs": [
    {
     "data": {
      "text/plain": [
       "['We owe it to ourselves to try this before we go off blundering into the mountains and throw our lives away.',\n",
       " 'After all, considering what we’d been through, didn’t the world owe us a little fun? I told myself I was savoring life, making up for the time I’d lost on the mountain.']"
      ]
     },
     "execution_count": 12,
     "metadata": {},
     "output_type": "execute_result"
    }
   ],
   "source": [
    "pattern = re.compile(\"[A-Z]{1}[^.]* owe[^a-zA-Z]+[^.]*.\")\n",
    "findings = re.findall(pattern, book)\n",
    "len(findings)\n",
    "findings"
   ]
  },
  {
   "cell_type": "markdown",
   "id": "a852bc8d-1604-4bb5-a6c1-5806e8ce4f88",
   "metadata": {
    "jp-MarkdownHeadingCollapsed": true
   },
   "source": [
    "## [IV] Function that finds the occurrence of any word"
   ]
  },
  {
   "cell_type": "code",
   "execution_count": 13,
   "id": "915b0c2c-7dad-4c02-afce-0bc30f5c173d",
   "metadata": {},
   "outputs": [],
   "source": [
    "def find(w):\n",
    "    pattern = re.compile(\"[a-zA-Z]+\")\n",
    "    findings = re.findall(pattern, book.lower())\n",
    "    d = {}\n",
    "    for word in findings:\n",
    "        if word in d.keys():\n",
    "            d[word] = d[word] + 1\n",
    "        else:\n",
    "            d[word] = 1\n",
    "    try:\n",
    "        return d[w]\n",
    "    except:\n",
    "        return f'The book does not contain the word \"{w}\"'"
   ]
  },
  {
   "cell_type": "markdown",
   "id": "e6c30729-5fcf-49d6-86e9-7e247bc199a8",
   "metadata": {
    "jp-MarkdownHeadingCollapsed": true
   },
   "source": [
    "### Call the function"
   ]
  },
  {
   "cell_type": "code",
   "execution_count": 14,
   "id": "6e6db07b-fb82-46d8-bdbf-581477e4a2d9",
   "metadata": {},
   "outputs": [
    {
     "data": {
      "text/plain": [
       "2"
      ]
     },
     "execution_count": 14,
     "metadata": {},
     "output_type": "execute_result"
    }
   ],
   "source": [
    "find(\"owe\")"
   ]
  },
  {
   "cell_type": "code",
   "execution_count": 15,
   "id": "89d89bbe-0660-4fa9-aedf-dbd10408ff3d",
   "metadata": {},
   "outputs": [
    {
     "data": {
      "text/plain": [
       "'The book does not contain the word \"ho\"'"
      ]
     },
     "execution_count": 15,
     "metadata": {},
     "output_type": "execute_result"
    }
   ],
   "source": [
    "find(\"ho\")"
   ]
  }
 ],
 "metadata": {
  "kernelspec": {
   "display_name": "Python 3 (ipykernel)",
   "language": "python",
   "name": "python3"
  },
  "language_info": {
   "codemirror_mode": {
    "name": "ipython",
    "version": 3
   },
   "file_extension": ".py",
   "mimetype": "text/x-python",
   "name": "python",
   "nbconvert_exporter": "python",
   "pygments_lexer": "ipython3",
   "version": "3.10.12"
  }
 },
 "nbformat": 4,
 "nbformat_minor": 5
}
